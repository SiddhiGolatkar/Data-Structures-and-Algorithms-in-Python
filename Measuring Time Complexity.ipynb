{
 "cells": [
  {
   "cell_type": "markdown",
   "metadata": {},
   "source": [
    "# Measuring Time Complexity"
   ]
  },
  {
   "cell_type": "markdown",
   "metadata": {},
   "source": [
    "https://towardsdatascience.com/understanding-time-complexity-with-python-examples-2bda6e8158a7"
   ]
  },
  {
   "cell_type": "markdown",
   "metadata": {},
   "source": [
    "In computer science, the ***time complexity*** is the computational complexity that describes the ***amount of time it takes to run an algorithm.*** "
   ]
  },
  {
   "cell_type": "markdown",
   "metadata": {},
   "source": [
    "## Big O notation"
   ]
  },
  {
   "cell_type": "markdown",
   "metadata": {},
   "source": [
    "In computer science, ***Big-O notation*** is used to ***classify algorithms*** according to how their ***running time*** or space requirements grow as the ***input size (n) grows.*** \n",
    "\n",
    "This notation characterizes functions according to their growth rates: \n",
    "\n",
    "different functions with the same growth rate may be represented using the same O notation."
   ]
  },
  {
   "cell_type": "markdown",
   "metadata": {},
   "source": [
    "## O(1) - Order of 1 - Constant Time"
   ]
  },
  {
   "cell_type": "markdown",
   "metadata": {},
   "source": [
    "An **Algorithm** is said to have a **constant time** when it is **not dependent on the input data (n).**\n",
    "\n",
    "No matter the size of the input data, the running time will always be the same. \n",
    "\n",
    "For example:"
   ]
  },
  {
   "cell_type": "raw",
   "metadata": {},
   "source": [
    "if a > b:\n",
    "    return True\n",
    "else:\n",
    "    return False"
   ]
  },
  {
   "cell_type": "code",
   "execution_count": 1,
   "metadata": {},
   "outputs": [
    {
     "name": "stdout",
     "output_type": "stream",
     "text": [
      "1\n"
     ]
    }
   ],
   "source": [
    "def get_first(data):\n",
    "    return data[0]\n",
    "    \n",
    "if __name__ == '__main__':\n",
    "    data = [1, 2, 9, 8, 3, 4, 7, 6, 5]\n",
    "    print(get_first(data))"
   ]
  },
  {
   "cell_type": "markdown",
   "metadata": {},
   "source": [
    "Independently of the input data size, it will always have the same running time since it only gets the first value from the list.\n",
    "\n",
    "An algorithm with **constant time complexity is excellent** since we don’t need to worry about the input size.**"
   ]
  },
  {
   "cell_type": "markdown",
   "metadata": {},
   "source": [
    "## O(n) - Order of n - Linear Time"
   ]
  },
  {
   "cell_type": "markdown",
   "metadata": {},
   "source": [
    "An algorithm is said to have a linear time complexity when the **running time increases** at most **linearly** with the size of the **input data.** \n",
    "\n",
    "This is the best possible time complexity when the algorithm must examine all values in the input data. \n",
    "\n",
    "For example:"
   ]
  },
  {
   "cell_type": "markdown",
   "metadata": {},
   "source": [
    "for value in data:\n",
    "    print(value)"
   ]
  },
  {
   "cell_type": "code",
   "execution_count": 2,
   "metadata": {},
   "outputs": [],
   "source": [
    "def get_squared_numbers(numbers):\n",
    "    squared_numbers = []\n",
    "    for n in numbers:\n",
    "        squared_numbers.append(n*n)\n",
    "    return squared_numbers"
   ]
  },
  {
   "cell_type": "code",
   "execution_count": 3,
   "metadata": {},
   "outputs": [
    {
     "name": "stdout",
     "output_type": "stream",
     "text": [
      "[4, 25, 64, 81]\n"
     ]
    }
   ],
   "source": [
    "numbers = [2,5,8,9]\n",
    "\n",
    "print(get_squared_numbers(numbers))"
   ]
  },
  {
   "cell_type": "markdown",
   "metadata": {},
   "source": [
    "Let’s take a look at the example of a **linear search**, where we need to **find the position of an element in an unsorted list:**"
   ]
  },
  {
   "cell_type": "code",
   "execution_count": 4,
   "metadata": {},
   "outputs": [
    {
     "name": "stdout",
     "output_type": "stream",
     "text": [
      "6\n"
     ]
    }
   ],
   "source": [
    "def linear_search(data, value):\n",
    "    for index in range(len(data)):\n",
    "        if value == data[index]:\n",
    "            return index\n",
    "    raise ValueError('Value not found in the list')\n",
    "    \n",
    "if __name__ == '__main__':\n",
    "    data = [1, 2, 9, 8, 3, 4, 7, 6, 5]\n",
    "    print(linear_search(data, 7))"
   ]
  },
  {
   "cell_type": "markdown",
   "metadata": {},
   "source": [
    "## O(n²) - Order of n square - Quadratic Time "
   ]
  },
  {
   "cell_type": "markdown",
   "metadata": {},
   "source": [
    "An algorithm is said to have a quadratic time complexity when it needs to perform a linear time operation for each value in the input data, \n",
    "\n",
    "for example:"
   ]
  },
  {
   "cell_type": "raw",
   "metadata": {},
   "source": [
    "for x in data:\n",
    "    for y in data:\n",
    "        print(x, y)"
   ]
  },
  {
   "cell_type": "code",
   "execution_count": 5,
   "metadata": {},
   "outputs": [],
   "source": [
    "numbers = [3,6,2,4,3,6,8,9]\n",
    "\n",
    "duplicate = None\n",
    "\n",
    "for i in range(len(numbers)):\n",
    "    for j in range(i+1, len(numbers)):\n",
    "        if numbers[i]==numbers[j]:\n",
    "            duplicate = numbers[i]\n",
    "            break"
   ]
  },
  {
   "cell_type": "code",
   "execution_count": 6,
   "metadata": {},
   "outputs": [
    {
     "name": "stdout",
     "output_type": "stream",
     "text": [
      "6\n"
     ]
    }
   ],
   "source": [
    "print(duplicate)"
   ]
  },
  {
   "cell_type": "markdown",
   "metadata": {},
   "source": [
    "**Bubble sort** is a great example of quadratic time complexity since for each value it needs to compare to all other values in the list."
   ]
  },
  {
   "cell_type": "markdown",
   "metadata": {},
   "source": [
    "## O(log n) - Logarithmic Time "
   ]
  },
  {
   "cell_type": "markdown",
   "metadata": {},
   "source": [
    "Algorithms with logarithmic time complexity are commonly found in operations on **binary trees** or when using **binary search**, where we need to find the position of an element in a sorted list."
   ]
  },
  {
   "cell_type": "markdown",
   "metadata": {},
   "source": [
    "## O(n log n) - Quasilinear Time"
   ]
  },
  {
   "cell_type": "markdown",
   "metadata": {},
   "source": [
    "An algorithm is said to have a quasilinear time complexity when each operation in the input data have a logarithm time complexity. \n",
    "\n",
    "It is commonly seen in **sorting algorithms (e.g. mergesort, timsort, heapsort).**"
   ]
  },
  {
   "cell_type": "markdown",
   "metadata": {},
   "source": [
    "## O(2^n) - Exponential Time "
   ]
  },
  {
   "cell_type": "markdown",
   "metadata": {},
   "source": [
    "An algorithm is said to have an exponential time complexity when the growth doubles with each addition to the input data set.\n",
    "\n",
    "This kind of time complexity is usually seen in **brute-force algorithms.**"
   ]
  },
  {
   "cell_type": "markdown",
   "metadata": {},
   "source": [
    "Another example of an exponential time algorithm is the **recursive calculation of Fibonacci numbers:**"
   ]
  },
  {
   "cell_type": "code",
   "execution_count": 7,
   "metadata": {},
   "outputs": [],
   "source": [
    "def fibonacci(n):\n",
    "    if n <= 1:\n",
    "        return n\n",
    "    return fibonacci(n-1) + fibonacci(n-2)"
   ]
  },
  {
   "cell_type": "code",
   "execution_count": 8,
   "metadata": {},
   "outputs": [
    {
     "name": "stdout",
     "output_type": "stream",
     "text": [
      "55\n"
     ]
    }
   ],
   "source": [
    "print(fibonacci(10))"
   ]
  },
  {
   "cell_type": "markdown",
   "metadata": {},
   "source": [
    "## O(n!) - Factorial Time"
   ]
  },
  {
   "cell_type": "markdown",
   "metadata": {},
   "source": [
    "An algorithm is said to have a factorial time complexity when it **grows in a factorial way** based on the size of the input data, for example:"
   ]
  },
  {
   "cell_type": "raw",
   "metadata": {},
   "source": [
    "2! = 2 x 1 = 2\n",
    "3! = 3 x 2 x 1 = 6\n",
    "4! = 4 x 3 x 2 x 1 = 24\n",
    "5! = 5 x 4 x 3 x 2 x 1 = 120\n",
    "6! = 6 x 5 x 4 x 3 x 2 x 1 = 720\n",
    "7! = 7 x 6 x 5 x 4 x 3 x 2 x 1 = 5.040\n",
    "8! = 8 x 7 x 6 x 5 x 4 x 3 x 2 x 1 = 40.320"
   ]
  },
  {
   "cell_type": "markdown",
   "metadata": {},
   "source": [
    "A great example of an algorithm which has a factorial time complexity is the **Heap’s algorithm**, which is used for generating **all possible permutations of n objects.**"
   ]
  },
  {
   "cell_type": "code",
   "execution_count": 9,
   "metadata": {},
   "outputs": [
    {
     "name": "stdout",
     "output_type": "stream",
     "text": [
      "[1, 2, 3]\n",
      "[2, 1, 3]\n",
      "[3, 1, 2]\n",
      "[1, 3, 2]\n",
      "[2, 3, 1]\n",
      "[3, 2, 1]\n"
     ]
    }
   ],
   "source": [
    "def heap_permutation(data, n):\n",
    "    if n == 1:\n",
    "        print(data)\n",
    "        return\n",
    "    \n",
    "    for i in range(n):\n",
    "        heap_permutation(data, n - 1)\n",
    "        if n % 2 == 0:\n",
    "            data[i], data[n-1] = data[n-1], data[i]\n",
    "        else:\n",
    "            data[0], data[n-1] = data[n-1], data[0]\n",
    "    \n",
    "if __name__ == '__main__':\n",
    "    data = [1, 2, 3]\n",
    "    heap_permutation(data, len(data))"
   ]
  },
  {
   "cell_type": "markdown",
   "metadata": {},
   "source": [
    "Another great example is the Travelling Salesman Problem."
   ]
  },
  {
   "cell_type": "code",
   "execution_count": null,
   "metadata": {},
   "outputs": [],
   "source": []
  }
 ],
 "metadata": {
  "kernelspec": {
   "display_name": "Python 3",
   "language": "python",
   "name": "python3"
  },
  "language_info": {
   "codemirror_mode": {
    "name": "ipython",
    "version": 3
   },
   "file_extension": ".py",
   "mimetype": "text/x-python",
   "name": "python",
   "nbconvert_exporter": "python",
   "pygments_lexer": "ipython3",
   "version": "3.7.6"
  }
 },
 "nbformat": 4,
 "nbformat_minor": 4
}
